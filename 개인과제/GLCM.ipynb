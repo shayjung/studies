{
 "cells": [
  {
   "cell_type": "code",
   "execution_count": 1,
   "metadata": {},
   "outputs": [
    {
     "data": {
      "text/plain": [
       "[[0, 2, 0], [1, 2, 1], [0, 0, 0]]"
      ]
     },
     "execution_count": 1,
     "metadata": {},
     "output_type": "execute_result"
    }
   ],
   "source": [
    "data = [[0, 1, 1], [1, 1, 2], [0, 1, 0]]\n",
    "GLCM = [[0 for j in range(len(data[i]))] for i in range(len(data))] # 0으로 채운 기본 리스트 생성\n",
    "\n",
    "\n",
    "for i in range(len(data)):\n",
    "  for k in range(len(data)-1):\n",
    "    X = data[i][k]      # data의 첫 번째 값을 X 좌표로\n",
    "    Y = data[i][k+1]    # data의 두 번째 값을 Y 좌표로\n",
    "    GLCM[X][Y] += 1        # 각 XY 좌표 위치의 값이 1씩 증가하도록 입력\n",
    "\n",
    "GLCM"
   ]
  }
 ],
 "metadata": {
  "kernelspec": {
   "display_name": "Python 3.10.4 64-bit",
   "language": "python",
   "name": "python3"
  },
  "language_info": {
   "codemirror_mode": {
    "name": "ipython",
    "version": 3
   },
   "file_extension": ".py",
   "mimetype": "text/x-python",
   "name": "python",
   "nbconvert_exporter": "python",
   "pygments_lexer": "ipython3",
   "version": "3.10.4"
  },
  "orig_nbformat": 4,
  "vscode": {
   "interpreter": {
    "hash": "0120bcca7cd997853065aac078e94b72bdc25d91a38974645f910be82d3a7909"
   }
  }
 },
 "nbformat": 4,
 "nbformat_minor": 2
}
