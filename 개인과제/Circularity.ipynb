{
 "cells": [
  {
   "cell_type": "code",
   "execution_count": 1,
   "metadata": {},
   "outputs": [],
   "source": [
    "import cv2\n",
    "import math\n",
    "\n",
    "src = cv2.imread(\"circle_image.png\")\n",
    "dst = src.copy()\n",
    "gray = cv2.cvtColor(dst, cv2.COLOR_BGR2GRAY)\n",
    "\n",
    "ret,binary = cv2.threshold(gray, 65, 255, 1)\n",
    "contours,hierarchy = cv2.findContours(binary, cv2.RETR_EXTERNAL, cv2.CHAIN_APPROX_TC89_L1)\n",
    "\n",
    "\n",
    "for i in contours:\n",
    "    hull = cv2.convexHull(i, clockwise=True) # 최외곽선 \n",
    "    area = cv2.contourArea(hull) # 넓이 구하기\n",
    "    perimeter = cv2.arcLength(hull, True) # 둘레 구하기\n",
    "\n",
    "    if area <= 30: # 작은 영역 생략\n",
    "        continue\n",
    "    \n",
    "    circularity = round( 4 * math.pi * area / (perimeter * perimeter) * 100, 3 ) # 넓이와 둘레로 circularity 구하기\n",
    "    cv2.drawContours(dst, [hull], 0, (0, 0, 255), 2) # contour 그리기\n",
    "\n",
    "    # 중심점에 circularity 점수 표시\n",
    "    M = cv2.moments(hull)\n",
    "    cX = int(M['m10'] / M['m00'])\n",
    "    cY = int(M['m01'] / M['m00'])\n",
    "    dst = cv2.putText(dst, str(circularity), (cX-50, cY), cv2.FONT_HERSHEY_PLAIN, 2, (0, 255, 0), 1, cv2.LINE_AA)\n",
    "\n",
    "\n",
    "cv2.imshow(\"dst\", dst)\n",
    "cv2.waitKey(0)\n",
    "cv2.destroyAllWindows()"
   ]
  }
 ],
 "metadata": {
  "kernelspec": {
   "display_name": "Python 3.10.4 64-bit",
   "language": "python",
   "name": "python3"
  },
  "language_info": {
   "codemirror_mode": {
    "name": "ipython",
    "version": 3
   },
   "file_extension": ".py",
   "mimetype": "text/x-python",
   "name": "python",
   "nbconvert_exporter": "python",
   "pygments_lexer": "ipython3",
   "version": "3.10.4"
  },
  "orig_nbformat": 4,
  "vscode": {
   "interpreter": {
    "hash": "0120bcca7cd997853065aac078e94b72bdc25d91a38974645f910be82d3a7909"
   }
  }
 },
 "nbformat": 4,
 "nbformat_minor": 2
}
