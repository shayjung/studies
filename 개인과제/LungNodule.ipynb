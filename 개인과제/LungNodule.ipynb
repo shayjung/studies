{
 "cells": [
  {
   "cell_type": "code",
   "execution_count": 325,
   "metadata": {},
   "outputs": [],
   "source": [
    "import cv2\n",
    "import numpy as np\n",
    "import math\n",
    "\n",
    "\n",
    "# 전처리\n",
    "src = cv2.imread(\"lung.jpg\")\n",
    "dst = src.copy()\n",
    "gray = cv2.cvtColor(dst, cv2.COLOR_BGR2GRAY)\n",
    "\n",
    "ret,binary = cv2.threshold(gray, 120, 255, 1)\n",
    "\n",
    "kernel = np.ones((3, 3), np.uint8)\n",
    "result = cv2.morphologyEx(binary, cv2.MORPH_OPEN, kernel)\n",
    "contours,hierarchy = cv2.findContours(result, cv2.RETR_CCOMP, cv2.CHAIN_APPROX_TC89_L1)\n",
    "\n",
    "\n",
    "# 일정 크기의 원형과 유사한 형태 검출\n",
    "circles = cv2.HoughCircles(result, cv2.HOUGH_GRADIENT, 1, 100, param1 = 250, param2 = 10, minRadius = 5, maxRadius = 10)\n",
    "\n",
    "if circles is not None:\n",
    "        circles = np.uint16(np.around(circles))\n",
    "\n",
    "        for i in circles[0]:\n",
    "            cv2.circle(dst, (i[0], i[1]), i[2], (0, 0, 255), 2)\n",
    "\n",
    "\n",
    "# 이미지 출력\n",
    "cv2.imshow(\"dst\", dst)\n",
    "cv2.waitKey(0)\n",
    "cv2.destroyAllWindows()"
   ]
  }
 ],
 "metadata": {
  "kernelspec": {
   "display_name": "Python 3.10.4 64-bit",
   "language": "python",
   "name": "python3"
  },
  "language_info": {
   "name": "python",
   "version": "3.10.4"
  },
  "orig_nbformat": 4,
  "vscode": {
   "interpreter": {
    "hash": "0120bcca7cd997853065aac078e94b72bdc25d91a38974645f910be82d3a7909"
   }
  }
 },
 "nbformat": 4,
 "nbformat_minor": 2
}
