{
 "cells": [
  {
   "cell_type": "code",
   "execution_count": 2,
   "metadata": {},
   "outputs": [
    {
     "name": "stdout",
     "output_type": "stream",
     "text": [
      "\n",
      "1단            2단            3단            4단            \n",
      "1 × 1 = 1     2 × 1 = 2     3 × 1 = 3     4 × 1 = 4     \n",
      "1 × 2 = 2     2 × 2 = 4     3 × 2 = 6     4 × 2 = 8     \n",
      "1 × 3 = 3     2 × 3 = 6     3 × 3 = 9     4 × 3 = 12    \n",
      "1 × 4 = 4     2 × 4 = 8     3 × 4 = 12    4 × 4 = 16    \n",
      "1 × 5 = 5     2 × 5 = 10    3 × 5 = 15    4 × 5 = 20    \n",
      "1 × 6 = 6     2 × 6 = 12    3 × 6 = 18    4 × 6 = 24    \n",
      "1 × 7 = 7     2 × 7 = 14    3 × 7 = 21    4 × 7 = 28    \n",
      "1 × 8 = 8     2 × 8 = 16    3 × 8 = 24    4 × 8 = 32    \n",
      "1 × 9 = 9     2 × 9 = 18    3 × 9 = 27    4 × 9 = 36    \n",
      "\n",
      "5단            6단            7단            8단            \n",
      "5 × 1 = 5     6 × 1 = 6     7 × 1 = 7     8 × 1 = 8     \n",
      "5 × 2 = 10    6 × 2 = 12    7 × 2 = 14    8 × 2 = 16    \n",
      "5 × 3 = 15    6 × 3 = 18    7 × 3 = 21    8 × 3 = 24    \n",
      "5 × 4 = 20    6 × 4 = 24    7 × 4 = 28    8 × 4 = 32    \n",
      "5 × 5 = 25    6 × 5 = 30    7 × 5 = 35    8 × 5 = 40    \n",
      "5 × 6 = 30    6 × 6 = 36    7 × 6 = 42    8 × 6 = 48    \n",
      "5 × 7 = 35    6 × 7 = 42    7 × 7 = 49    8 × 7 = 56    \n",
      "5 × 8 = 40    6 × 8 = 48    7 × 8 = 56    8 × 8 = 64    \n",
      "5 × 9 = 45    6 × 9 = 54    7 × 9 = 63    8 × 9 = 72    \n",
      "\n",
      "9단            \n",
      "9 × 1 = 9     \n",
      "9 × 2 = 18    \n",
      "9 × 3 = 27    \n",
      "9 × 4 = 36    \n",
      "9 × 5 = 45    \n",
      "9 × 6 = 54    \n",
      "9 × 7 = 63    \n",
      "9 × 8 = 72    \n",
      "9 × 9 = 81    "
     ]
    }
   ],
   "source": [
    "\n",
    "# multiplication print method\n",
    "def multiply(x, y):\n",
    "    print(\"%d × %d = %-5d\" % (x, y, x*y), end=' ')\n",
    "\n",
    "### Multiplication Table (9*9) function\n",
    "def gugudan(column):\n",
    "\n",
    "    # 1. 몫과 나머지로 단을 나눠서 처리한다.\n",
    "    repeat = 9 // column # 열 수를 매개변수로 받아 나눠서 행 반복횟수 계산\n",
    "    remainder = 9 % column # 나머지 계산\n",
    "\n",
    "    for i in range(1, repeat+1): # 전체 구구단 행 반복 --- contents row 축\n",
    "        start = 1 + column * (i-1) # 단 나누기 시작 수\n",
    "        end = column * i + 1 # 단 나누기 끝 수\n",
    "\n",
    "        \n",
    "    # 2. 구구단이 가로로 이어지므로 일반적인 구구단과 반대로 처리한다.\n",
    "        for y in range(0, 10): # 승수(뒷자리 숫자) 반복 --- records 축\n",
    "\n",
    "\n",
    "            print()\n",
    "            \n",
    "            for x in range(start, end): # 피승수(앞자리 숫자) 반복 --- column 축\n",
    "                if y == 0: # 첫 번째 record에선 단의 이름 출력\n",
    "                    print(\"%d단           \" % x , end=' ')\n",
    "                    continue\n",
    "\n",
    "                multiply(x, y)\n",
    "        \n",
    "        print()\n",
    "\n",
    "    # 3. column의 개수가 나눠떨어지지 않아 나머지가 있으면 남은 만큼 출력한다.\n",
    "    if remainder: \n",
    "        for y in range(0, 10): # 승수(뒷자리 숫자) 반복. --- records 축\n",
    "\n",
    "            print()\n",
    "            \n",
    "            for x in range(end, 10): # 피승수(앞자리 숫자) 반복 --- column 축\n",
    "                if y == 0: # 첫 번째 record에선 단의 이름 출력\n",
    "                    print(\"%d단           \" % x , end=' ')\n",
    "                    continue\n",
    "\n",
    "                multiply(x, y)\n",
    "\n",
    "\n",
    "\n",
    "### main\n",
    "gugudan(4)\n"
   ]
  },
  {
   "cell_type": "code",
   "execution_count": 19,
   "metadata": {},
   "outputs": [
    {
     "name": "stdout",
     "output_type": "stream",
     "text": [
      "\n",
      "1 x 1 = 1 2 x 1 = 2 3 x 1 = 3 4 x 1 = 4 5 x 1 = 5 6 x 1 = 6 7 x 1 = 7 8 x 1 = 8 9 x 1 = 9 \n",
      "1 x 2 = 2 2 x 2 = 4 3 x 2 = 6 4 x 2 = 8 5 x 2 = 10 6 x 2 = 12 7 x 2 = 14 8 x 2 = 16 9 x 2 = 18 \n",
      "1 x 3 = 3 2 x 3 = 6 3 x 3 = 9 4 x 3 = 12 5 x 3 = 15 6 x 3 = 18 7 x 3 = 21 8 x 3 = 24 9 x 3 = 27 \n",
      "1 x 4 = 4 2 x 4 = 8 3 x 4 = 12 4 x 4 = 16 5 x 4 = 20 6 x 4 = 24 7 x 4 = 28 8 x 4 = 32 9 x 4 = 36 \n",
      "1 x 5 = 5 2 x 5 = 10 3 x 5 = 15 4 x 5 = 20 5 x 5 = 25 6 x 5 = 30 7 x 5 = 35 8 x 5 = 40 9 x 5 = 45 \n",
      "1 x 6 = 6 2 x 6 = 12 3 x 6 = 18 4 x 6 = 24 5 x 6 = 30 6 x 6 = 36 7 x 6 = 42 8 x 6 = 48 9 x 6 = 54 \n",
      "1 x 7 = 7 2 x 7 = 14 3 x 7 = 21 4 x 7 = 28 5 x 7 = 35 6 x 7 = 42 7 x 7 = 49 8 x 7 = 56 9 x 7 = 63 \n",
      "1 x 8 = 8 2 x 8 = 16 3 x 8 = 24 4 x 8 = 32 5 x 8 = 40 6 x 8 = 48 7 x 8 = 56 8 x 8 = 64 9 x 8 = 72 \n",
      "1 x 9 = 9 2 x 9 = 18 3 x 9 = 27 4 x 9 = 36 5 x 9 = 45 6 x 9 = 54 7 x 9 = 63 8 x 9 = 72 9 x 9 = 81 "
     ]
    }
   ],
   "source": []
  }
 ],
 "metadata": {
  "interpreter": {
   "hash": "0120bcca7cd997853065aac078e94b72bdc25d91a38974645f910be82d3a7909"
  },
  "kernelspec": {
   "display_name": "Python 3.10.4 64-bit",
   "language": "python",
   "name": "python3"
  },
  "language_info": {
   "codemirror_mode": {
    "name": "ipython",
    "version": 3
   },
   "file_extension": ".py",
   "mimetype": "text/x-python",
   "name": "python",
   "nbconvert_exporter": "python",
   "pygments_lexer": "ipython3",
   "version": "3.10.4"
  },
  "orig_nbformat": 4
 },
 "nbformat": 4,
 "nbformat_minor": 2
}
