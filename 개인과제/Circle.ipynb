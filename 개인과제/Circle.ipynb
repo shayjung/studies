{
 "cells": [
  {
   "cell_type": "code",
   "execution_count": 5,
   "metadata": {},
   "outputs": [
    {
     "name": "stdout",
     "output_type": "stream",
     "text": [
      "412 180\n",
      "80\n",
      "95.748\n"
     ]
    }
   ],
   "source": [
    "import cv2\n",
    "import numpy as np\n",
    "import math\n",
    "\n",
    "src = cv2.imread(\"circle_image.png\")\n",
    "dst = src.copy()\n",
    "gray = cv2.cvtColor(dst, cv2.COLOR_BGR2GRAY)\n",
    "\n",
    "ret, binary = cv2.threshold(gray, 65, 255, cv2.THRESH_BINARY_INV)\n",
    "\n",
    "contours, hierarchy = cv2.findContours(binary, cv2.RETR_EXTERNAL, cv2.CHAIN_APPROX_TC89_L1)\n",
    "\n",
    "for i in contours:\n",
    "    hull = cv2.convexHull(i, clockwise=True)\n",
    "    cv2.drawContours(dst, [hull], 0, (0, 0, 255), 2)\n",
    "    \n",
    "\n",
    "circles = cv2.HoughCircles(gray, cv2.HOUGH_GRADIENT, 1, 100, param1 = 250, param2 = 30, minRadius = 80, maxRadius = 120)\n",
    "\n",
    "if circles is not None:\n",
    "        circles = np.uint16(np.around(circles))\n",
    "\n",
    "        for i in circles[0]:\n",
    "            cv2.circle(dst, (i[0], i[1]), i[2], (255, 255, 255), 2)\n",
    "            print(i[0], i[1])\n",
    "        print(circles[0][0][2]) # 반지름\n",
    "\n",
    "        result = []\n",
    "\n",
    "        for k in range(len(circles)):\n",
    "            \n",
    "            if circles[k] is not None: \n",
    "\n",
    "                for i in contours[2]:\n",
    "\n",
    "                    # 각점과 중심과의 거리 = 원 반지름\n",
    "                    x = abs(i[0][0] - circles[0][0][0])\n",
    "                    y = abs(i[0][1] - circles[0][0][1])\n",
    "                    length = math.sqrt( (x*x) + (y*y) )\n",
    "\n",
    "                    # 반지름과 길이 오차를 구한다. (백분율로 환산 \n",
    "                    percent = ( circles[0][0][2] - abs(length - circles[0][0][2]) ) / circles[0][0][2] * 100\n",
    "                    # print(percent)\n",
    "                    result.append(percent)\n",
    "            \n",
    "\n",
    "        score = round( (sum(result) / len(result)) , 3)\n",
    "        print(score)\n",
    "            \n",
    "pr = str(score)\n",
    "\n",
    "dst = cv2.putText(dst, pr, (350, 40), cv2.FONT_HERSHEY_PLAIN, 2, (0, 255, 0), 1, cv2.LINE_AA)    \n",
    "cv2.imshow(\"dst\", dst)\n",
    "cv2.waitKey(0)\n",
    "cv2.destroyAllWindows()"
   ]
  }
 ],
 "metadata": {
  "kernelspec": {
   "display_name": "Python 3.10.4 64-bit",
   "language": "python",
   "name": "python3"
  },
  "language_info": {
   "codemirror_mode": {
    "name": "ipython",
    "version": 3
   },
   "file_extension": ".py",
   "mimetype": "text/x-python",
   "name": "python",
   "nbconvert_exporter": "python",
   "pygments_lexer": "ipython3",
   "version": "3.10.4"
  },
  "orig_nbformat": 4,
  "vscode": {
   "interpreter": {
    "hash": "0120bcca7cd997853065aac078e94b72bdc25d91a38974645f910be82d3a7909"
   }
  }
 },
 "nbformat": 4,
 "nbformat_minor": 2
}
