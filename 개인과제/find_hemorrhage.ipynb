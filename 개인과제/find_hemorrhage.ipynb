{
 "cells": [
  {
   "cell_type": "code",
   "execution_count": 45,
   "metadata": {},
   "outputs": [],
   "source": [
    "import cv2\n",
    "import numpy as np\n",
    "\n",
    "# 전처리\n",
    "src = cv2.imread(\"hemorrhage.png\")\n",
    "dst = src.copy()\n",
    "gray = cv2.cvtColor(dst, cv2.COLOR_BGR2GRAY)\n",
    "\n",
    "clahe = cv2.createCLAHE(clipLimit=1.0, tileGridSize=(4, 4))\n",
    "img = clahe.apply(gray)\n",
    "\n",
    "ret,binary = cv2.threshold(img, 140, 255, 0)\n",
    "\n",
    "# 모든 계층의 contour 수집\n",
    "contours,hierarchy = cv2.findContours(binary, cv2.RETR_TREE, cv2.CHAIN_APPROX_TC89_L1)\n",
    "\n",
    "for i in contours:\n",
    "    area = cv2.contourArea(i) # 넓이 구하기\n",
    "\n",
    "    if area >= 500: # 넓은 영역 생략\n",
    "        continue\n",
    "\n",
    "    cv2.drawContours(dst, [i], 0, (255, 255, 255), 1) # contour 그리기\n",
    "\n",
    "cv2.imshow('find_hemorrhage', dst)\n",
    "cv2.waitKey(0)\n",
    "cv2.destroyAllWindows()"
   ]
  }
 ],
 "metadata": {
  "kernelspec": {
   "display_name": "Python 3.10.4 64-bit",
   "language": "python",
   "name": "python3"
  },
  "language_info": {
   "codemirror_mode": {
    "name": "ipython",
    "version": 3
   },
   "file_extension": ".py",
   "mimetype": "text/x-python",
   "name": "python",
   "nbconvert_exporter": "python",
   "pygments_lexer": "ipython3",
   "version": "3.10.4"
  },
  "orig_nbformat": 4,
  "vscode": {
   "interpreter": {
    "hash": "0120bcca7cd997853065aac078e94b72bdc25d91a38974645f910be82d3a7909"
   }
  }
 },
 "nbformat": 4,
 "nbformat_minor": 2
}
